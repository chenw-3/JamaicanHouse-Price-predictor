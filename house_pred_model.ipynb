{
 "cells": [
  {
   "cell_type": "code",
   "execution_count": 26,
   "id": "1b3fc504",
   "metadata": {},
   "outputs": [],
   "source": [
    "#import libraries\n",
    "import pandas as pd\n",
    "import statsmodels.api as sm\n",
    "from statsmodels.stats.outliers_influence import variance_inflation_factor\n",
    "import numpy as np\n",
    "import seaborn as sb\n",
    "from patsy import dmatrices\n",
    "from sklearn.linear_model import LinearRegression\n",
    "import plotly.express as px\n",
    "import plotly.graph_objects as go"
   ]
  },
  {
   "cell_type": "code",
   "execution_count": 70,
   "id": "bcb04807",
   "metadata": {},
   "outputs": [
    {
     "data": {
      "text/html": [
       "<div>\n",
       "<style scoped>\n",
       "    .dataframe tbody tr th:only-of-type {\n",
       "        vertical-align: middle;\n",
       "    }\n",
       "\n",
       "    .dataframe tbody tr th {\n",
       "        vertical-align: top;\n",
       "    }\n",
       "\n",
       "    .dataframe thead th {\n",
       "        text-align: right;\n",
       "    }\n",
       "</style>\n",
       "<table border=\"1\" class=\"dataframe\">\n",
       "  <thead>\n",
       "    <tr style=\"text-align: right;\">\n",
       "      <th></th>\n",
       "      <th>Address</th>\n",
       "      <th>List/Rent Price</th>\n",
       "      <th>Region</th>\n",
       "      <th>BR</th>\n",
       "      <th>BTH</th>\n",
       "    </tr>\n",
       "  </thead>\n",
       "  <tbody>\n",
       "    <tr>\n",
       "      <th>0</th>\n",
       "      <td>7.5 LOMBARD CLOSE</td>\n",
       "      <td>527587.0</td>\n",
       "      <td>6</td>\n",
       "      <td>3.0</td>\n",
       "      <td>2.0</td>\n",
       "    </tr>\n",
       "    <tr>\n",
       "      <th>1</th>\n",
       "      <td>LOT #17 MAVERLEY MOUNTAI...</td>\n",
       "      <td>6000000.0</td>\n",
       "      <td>100</td>\n",
       "      <td>NaN</td>\n",
       "      <td>NaN</td>\n",
       "    </tr>\n",
       "    <tr>\n",
       "      <th>2</th>\n",
       "      <td>LOT #18 MAVERLEY MOUNTAI...</td>\n",
       "      <td>6500000.0</td>\n",
       "      <td>100</td>\n",
       "      <td>NaN</td>\n",
       "      <td>NaN</td>\n",
       "    </tr>\n",
       "    <tr>\n",
       "      <th>3</th>\n",
       "      <td>LOT #12 MAVERLEY MOUNTAI...</td>\n",
       "      <td>7500000.0</td>\n",
       "      <td>100</td>\n",
       "      <td>NaN</td>\n",
       "      <td>NaN</td>\n",
       "    </tr>\n",
       "    <tr>\n",
       "      <th>4</th>\n",
       "      <td>Lot 92 COOPERS HILL DRIVE</td>\n",
       "      <td>7500000.0</td>\n",
       "      <td>100</td>\n",
       "      <td>NaN</td>\n",
       "      <td>NaN</td>\n",
       "    </tr>\n",
       "    <tr>\n",
       "      <th>...</th>\n",
       "      <td>...</td>\n",
       "      <td>...</td>\n",
       "      <td>...</td>\n",
       "      <td>...</td>\n",
       "      <td>...</td>\n",
       "    </tr>\n",
       "    <tr>\n",
       "      <th>1894</th>\n",
       "      <td>5 WASHINGTON DRIVE</td>\n",
       "      <td>73000000.0</td>\n",
       "      <td>10</td>\n",
       "      <td>5.0</td>\n",
       "      <td>4.0</td>\n",
       "    </tr>\n",
       "    <tr>\n",
       "      <th>1895</th>\n",
       "      <td>13 MAYFAIR</td>\n",
       "      <td>70238363.0</td>\n",
       "      <td>19</td>\n",
       "      <td>5.0</td>\n",
       "      <td>5.0</td>\n",
       "    </tr>\n",
       "    <tr>\n",
       "      <th>1896</th>\n",
       "      <td>TORONTO AVENUE,</td>\n",
       "      <td>85000000.0</td>\n",
       "      <td>10</td>\n",
       "      <td>24.0</td>\n",
       "      <td>36.0</td>\n",
       "    </tr>\n",
       "    <tr>\n",
       "      <th>1897</th>\n",
       "      <td>7 WATERLOO AVENUE</td>\n",
       "      <td>196788516.0</td>\n",
       "      <td>10</td>\n",
       "      <td>4.0</td>\n",
       "      <td>3.0</td>\n",
       "    </tr>\n",
       "    <tr>\n",
       "      <th>1898</th>\n",
       "      <td>1 MONTROSE ROAD</td>\n",
       "      <td>681191016.0</td>\n",
       "      <td>10</td>\n",
       "      <td>4.0</td>\n",
       "      <td>4.0</td>\n",
       "    </tr>\n",
       "  </tbody>\n",
       "</table>\n",
       "<p>1899 rows × 5 columns</p>\n",
       "</div>"
      ],
      "text/plain": [
       "                          Address  List/Rent Price Region    BR   BTH\n",
       "0               7.5 LOMBARD CLOSE         527587.0      6   3.0   2.0\n",
       "1     LOT #17 MAVERLEY MOUNTAI...        6000000.0    100   NaN   NaN\n",
       "2     LOT #18 MAVERLEY MOUNTAI...        6500000.0    100   NaN   NaN\n",
       "3     LOT #12 MAVERLEY MOUNTAI...        7500000.0    100   NaN   NaN\n",
       "4       Lot 92 COOPERS HILL DRIVE        7500000.0    100   NaN   NaN\n",
       "...                           ...              ...    ...   ...   ...\n",
       "1894           5 WASHINGTON DRIVE       73000000.0     10   5.0   4.0\n",
       "1895                   13 MAYFAIR       70238363.0     19   5.0   5.0\n",
       "1896             TORONTO AVENUE,        85000000.0     10  24.0  36.0\n",
       "1897            7 WATERLOO AVENUE      196788516.0     10   4.0   3.0\n",
       "1898              1 MONTROSE ROAD      681191016.0     10   4.0   4.0\n",
       "\n",
       "[1899 rows x 5 columns]"
      ]
     },
     "execution_count": 70,
     "metadata": {},
     "output_type": "execute_result"
    }
   ],
   "source": [
    "#read data\n",
    "df = pd.read_csv('alllistings - fixed (2).csv')\n",
    "df"
   ]
  },
  {
   "cell_type": "code",
   "execution_count": 71,
   "id": "b64fd754",
   "metadata": {
    "scrolled": true
   },
   "outputs": [],
   "source": [
    "#rename columns\n",
    "df = df.rename(columns = {'List/Rent Price': 'price'})"
   ]
  },
  {
   "cell_type": "code",
   "execution_count": 72,
   "id": "8646722f",
   "metadata": {},
   "outputs": [
    {
     "name": "stdout",
     "output_type": "stream",
     "text": [
      "<class 'pandas.core.frame.DataFrame'>\n",
      "RangeIndex: 1899 entries, 0 to 1898\n",
      "Data columns (total 5 columns):\n",
      " #   Column   Non-Null Count  Dtype  \n",
      "---  ------   --------------  -----  \n",
      " 0   Address  1898 non-null   object \n",
      " 1   price    1897 non-null   float64\n",
      " 2   Region   1898 non-null   object \n",
      " 3   BR       1620 non-null   float64\n",
      " 4   BTH      1717 non-null   float64\n",
      "dtypes: float64(3), object(2)\n",
      "memory usage: 74.3+ KB\n"
     ]
    }
   ],
   "source": [
    "df.info()"
   ]
  },
  {
   "cell_type": "code",
   "execution_count": 73,
   "id": "d8176439",
   "metadata": {
    "scrolled": true
   },
   "outputs": [
    {
     "data": {
      "text/html": [
       "<div>\n",
       "<style scoped>\n",
       "    .dataframe tbody tr th:only-of-type {\n",
       "        vertical-align: middle;\n",
       "    }\n",
       "\n",
       "    .dataframe tbody tr th {\n",
       "        vertical-align: top;\n",
       "    }\n",
       "\n",
       "    .dataframe thead th {\n",
       "        text-align: right;\n",
       "    }\n",
       "</style>\n",
       "<table border=\"1\" class=\"dataframe\">\n",
       "  <thead>\n",
       "    <tr style=\"text-align: right;\">\n",
       "      <th></th>\n",
       "      <th>Address</th>\n",
       "      <th>price</th>\n",
       "      <th>Region</th>\n",
       "      <th>BR</th>\n",
       "      <th>BTH</th>\n",
       "    </tr>\n",
       "  </thead>\n",
       "  <tbody>\n",
       "    <tr>\n",
       "      <th>0</th>\n",
       "      <td>7.5 LOMBARD CLOSE</td>\n",
       "      <td>527587.0</td>\n",
       "      <td>6</td>\n",
       "      <td>3.0</td>\n",
       "      <td>2.0</td>\n",
       "    </tr>\n",
       "    <tr>\n",
       "      <th>8</th>\n",
       "      <td>221 RUBY WAY</td>\n",
       "      <td>8500000.0</td>\n",
       "      <td>13</td>\n",
       "      <td>1.0</td>\n",
       "      <td>2.0</td>\n",
       "    </tr>\n",
       "    <tr>\n",
       "      <th>10</th>\n",
       "      <td>GOLDEN SPRING/MT FRIEND</td>\n",
       "      <td>9000000.0</td>\n",
       "      <td>9</td>\n",
       "      <td>5.0</td>\n",
       "      <td>2.0</td>\n",
       "    </tr>\n",
       "    <tr>\n",
       "      <th>18</th>\n",
       "      <td>10-1A DUQUESNAY AVE</td>\n",
       "      <td>10500000.0</td>\n",
       "      <td>10</td>\n",
       "      <td>1.0</td>\n",
       "      <td>1.0</td>\n",
       "    </tr>\n",
       "    <tr>\n",
       "      <th>19</th>\n",
       "      <td>APT5-21 MERRICK HIGHWAY</td>\n",
       "      <td>10800000.0</td>\n",
       "      <td>19</td>\n",
       "      <td>1.0</td>\n",
       "      <td>1.0</td>\n",
       "    </tr>\n",
       "    <tr>\n",
       "      <th>...</th>\n",
       "      <td>...</td>\n",
       "      <td>...</td>\n",
       "      <td>...</td>\n",
       "      <td>...</td>\n",
       "      <td>...</td>\n",
       "    </tr>\n",
       "    <tr>\n",
       "      <th>1894</th>\n",
       "      <td>5 WASHINGTON DRIVE</td>\n",
       "      <td>73000000.0</td>\n",
       "      <td>10</td>\n",
       "      <td>5.0</td>\n",
       "      <td>4.0</td>\n",
       "    </tr>\n",
       "    <tr>\n",
       "      <th>1895</th>\n",
       "      <td>13 MAYFAIR</td>\n",
       "      <td>70238363.0</td>\n",
       "      <td>19</td>\n",
       "      <td>5.0</td>\n",
       "      <td>5.0</td>\n",
       "    </tr>\n",
       "    <tr>\n",
       "      <th>1896</th>\n",
       "      <td>TORONTO AVENUE,</td>\n",
       "      <td>85000000.0</td>\n",
       "      <td>10</td>\n",
       "      <td>24.0</td>\n",
       "      <td>36.0</td>\n",
       "    </tr>\n",
       "    <tr>\n",
       "      <th>1897</th>\n",
       "      <td>7 WATERLOO AVENUE</td>\n",
       "      <td>196788516.0</td>\n",
       "      <td>10</td>\n",
       "      <td>4.0</td>\n",
       "      <td>3.0</td>\n",
       "    </tr>\n",
       "    <tr>\n",
       "      <th>1898</th>\n",
       "      <td>1 MONTROSE ROAD</td>\n",
       "      <td>681191016.0</td>\n",
       "      <td>10</td>\n",
       "      <td>4.0</td>\n",
       "      <td>4.0</td>\n",
       "    </tr>\n",
       "  </tbody>\n",
       "</table>\n",
       "<p>1617 rows × 5 columns</p>\n",
       "</div>"
      ],
      "text/plain": [
       "                      Address        price Region    BR   BTH\n",
       "0           7.5 LOMBARD CLOSE     527587.0      6   3.0   2.0\n",
       "8                221 RUBY WAY    8500000.0     13   1.0   2.0\n",
       "10    GOLDEN SPRING/MT FRIEND    9000000.0      9   5.0   2.0\n",
       "18        10-1A DUQUESNAY AVE   10500000.0     10   1.0   1.0\n",
       "19    APT5-21 MERRICK HIGHWAY   10800000.0     19   1.0   1.0\n",
       "...                       ...          ...    ...   ...   ...\n",
       "1894       5 WASHINGTON DRIVE   73000000.0     10   5.0   4.0\n",
       "1895               13 MAYFAIR   70238363.0     19   5.0   5.0\n",
       "1896         TORONTO AVENUE,    85000000.0     10  24.0  36.0\n",
       "1897        7 WATERLOO AVENUE  196788516.0     10   4.0   3.0\n",
       "1898          1 MONTROSE ROAD  681191016.0     10   4.0   4.0\n",
       "\n",
       "[1617 rows x 5 columns]"
      ]
     },
     "execution_count": 73,
     "metadata": {},
     "output_type": "execute_result"
    }
   ],
   "source": [
    "df = df.dropna(how='any')\n",
    "df"
   ]
  },
  {
   "cell_type": "code",
   "execution_count": 54,
   "id": "af542153",
   "metadata": {},
   "outputs": [
    {
     "name": "stdout",
     "output_type": "stream",
     "text": [
      "<class 'pandas.core.frame.DataFrame'>\n",
      "Int64Index: 1085 entries, 0 to 1355\n",
      "Data columns (total 5 columns):\n",
      " #   Column   Non-Null Count  Dtype  \n",
      "---  ------   --------------  -----  \n",
      " 0   Address  1085 non-null   object \n",
      " 1   price    1085 non-null   float64\n",
      " 2   Region   1085 non-null   object \n",
      " 3   BR       1085 non-null   float64\n",
      " 4   BTH      1085 non-null   float64\n",
      "dtypes: float64(3), object(2)\n",
      "memory usage: 50.9+ KB\n"
     ]
    }
   ],
   "source": [
    "df.info()"
   ]
  },
  {
   "cell_type": "code",
   "execution_count": 74,
   "id": "a5554636",
   "metadata": {
    "scrolled": true
   },
   "outputs": [
    {
     "data": {
      "text/html": [
       "<div>\n",
       "<style scoped>\n",
       "    .dataframe tbody tr th:only-of-type {\n",
       "        vertical-align: middle;\n",
       "    }\n",
       "\n",
       "    .dataframe tbody tr th {\n",
       "        vertical-align: top;\n",
       "    }\n",
       "\n",
       "    .dataframe thead th {\n",
       "        text-align: right;\n",
       "    }\n",
       "</style>\n",
       "<table border=\"1\" class=\"dataframe\">\n",
       "  <thead>\n",
       "    <tr style=\"text-align: right;\">\n",
       "      <th></th>\n",
       "      <th>Address</th>\n",
       "      <th>price</th>\n",
       "      <th>Region</th>\n",
       "      <th>BR</th>\n",
       "      <th>BTH</th>\n",
       "    </tr>\n",
       "  </thead>\n",
       "  <tbody>\n",
       "    <tr>\n",
       "      <th>0</th>\n",
       "      <td>7.5 LOMBARD CLOSE</td>\n",
       "      <td>527587.0</td>\n",
       "      <td>6.0</td>\n",
       "      <td>3.0</td>\n",
       "      <td>2.0</td>\n",
       "    </tr>\n",
       "    <tr>\n",
       "      <th>8</th>\n",
       "      <td>221 RUBY WAY</td>\n",
       "      <td>8500000.0</td>\n",
       "      <td>13.0</td>\n",
       "      <td>1.0</td>\n",
       "      <td>2.0</td>\n",
       "    </tr>\n",
       "    <tr>\n",
       "      <th>10</th>\n",
       "      <td>GOLDEN SPRING/MT FRIEND</td>\n",
       "      <td>9000000.0</td>\n",
       "      <td>9.0</td>\n",
       "      <td>5.0</td>\n",
       "      <td>2.0</td>\n",
       "    </tr>\n",
       "    <tr>\n",
       "      <th>18</th>\n",
       "      <td>10-1A DUQUESNAY AVE</td>\n",
       "      <td>10500000.0</td>\n",
       "      <td>10.0</td>\n",
       "      <td>1.0</td>\n",
       "      <td>1.0</td>\n",
       "    </tr>\n",
       "    <tr>\n",
       "      <th>19</th>\n",
       "      <td>APT5-21 MERRICK HIGHWAY</td>\n",
       "      <td>10800000.0</td>\n",
       "      <td>19.0</td>\n",
       "      <td>1.0</td>\n",
       "      <td>1.0</td>\n",
       "    </tr>\n",
       "    <tr>\n",
       "      <th>...</th>\n",
       "      <td>...</td>\n",
       "      <td>...</td>\n",
       "      <td>...</td>\n",
       "      <td>...</td>\n",
       "      <td>...</td>\n",
       "    </tr>\n",
       "    <tr>\n",
       "      <th>1894</th>\n",
       "      <td>5 WASHINGTON DRIVE</td>\n",
       "      <td>73000000.0</td>\n",
       "      <td>10.0</td>\n",
       "      <td>5.0</td>\n",
       "      <td>4.0</td>\n",
       "    </tr>\n",
       "    <tr>\n",
       "      <th>1895</th>\n",
       "      <td>13 MAYFAIR</td>\n",
       "      <td>70238363.0</td>\n",
       "      <td>19.0</td>\n",
       "      <td>5.0</td>\n",
       "      <td>5.0</td>\n",
       "    </tr>\n",
       "    <tr>\n",
       "      <th>1896</th>\n",
       "      <td>TORONTO AVENUE,</td>\n",
       "      <td>85000000.0</td>\n",
       "      <td>10.0</td>\n",
       "      <td>24.0</td>\n",
       "      <td>36.0</td>\n",
       "    </tr>\n",
       "    <tr>\n",
       "      <th>1897</th>\n",
       "      <td>7 WATERLOO AVENUE</td>\n",
       "      <td>196788516.0</td>\n",
       "      <td>10.0</td>\n",
       "      <td>4.0</td>\n",
       "      <td>3.0</td>\n",
       "    </tr>\n",
       "    <tr>\n",
       "      <th>1898</th>\n",
       "      <td>1 MONTROSE ROAD</td>\n",
       "      <td>681191016.0</td>\n",
       "      <td>10.0</td>\n",
       "      <td>4.0</td>\n",
       "      <td>4.0</td>\n",
       "    </tr>\n",
       "  </tbody>\n",
       "</table>\n",
       "<p>1617 rows × 5 columns</p>\n",
       "</div>"
      ],
      "text/plain": [
       "                      Address        price  Region    BR   BTH\n",
       "0           7.5 LOMBARD CLOSE     527587.0     6.0   3.0   2.0\n",
       "8                221 RUBY WAY    8500000.0    13.0   1.0   2.0\n",
       "10    GOLDEN SPRING/MT FRIEND    9000000.0     9.0   5.0   2.0\n",
       "18        10-1A DUQUESNAY AVE   10500000.0    10.0   1.0   1.0\n",
       "19    APT5-21 MERRICK HIGHWAY   10800000.0    19.0   1.0   1.0\n",
       "...                       ...          ...     ...   ...   ...\n",
       "1894       5 WASHINGTON DRIVE   73000000.0    10.0   5.0   4.0\n",
       "1895               13 MAYFAIR   70238363.0    19.0   5.0   5.0\n",
       "1896         TORONTO AVENUE,    85000000.0    10.0  24.0  36.0\n",
       "1897        7 WATERLOO AVENUE  196788516.0    10.0   4.0   3.0\n",
       "1898          1 MONTROSE ROAD  681191016.0    10.0   4.0   4.0\n",
       "\n",
       "[1617 rows x 5 columns]"
      ]
     },
     "execution_count": 74,
     "metadata": {},
     "output_type": "execute_result"
    }
   ],
   "source": [
    "df['Region'] = df['Region'].astype('float')\n",
    "df"
   ]
  },
  {
   "cell_type": "code",
   "execution_count": 75,
   "id": "7a778fc8",
   "metadata": {},
   "outputs": [
    {
     "data": {
      "text/html": [
       "<div>\n",
       "<style scoped>\n",
       "    .dataframe tbody tr th:only-of-type {\n",
       "        vertical-align: middle;\n",
       "    }\n",
       "\n",
       "    .dataframe tbody tr th {\n",
       "        vertical-align: top;\n",
       "    }\n",
       "\n",
       "    .dataframe thead th {\n",
       "        text-align: right;\n",
       "    }\n",
       "</style>\n",
       "<table border=\"1\" class=\"dataframe\">\n",
       "  <thead>\n",
       "    <tr style=\"text-align: right;\">\n",
       "      <th></th>\n",
       "      <th>price</th>\n",
       "      <th>Region</th>\n",
       "      <th>BR</th>\n",
       "      <th>BTH</th>\n",
       "    </tr>\n",
       "  </thead>\n",
       "  <tbody>\n",
       "    <tr>\n",
       "      <th>count</th>\n",
       "      <td>1.617000e+03</td>\n",
       "      <td>1617.000000</td>\n",
       "      <td>1617.000000</td>\n",
       "      <td>1617.000000</td>\n",
       "    </tr>\n",
       "    <tr>\n",
       "      <th>mean</th>\n",
       "      <td>4.436338e+07</td>\n",
       "      <td>14.080396</td>\n",
       "      <td>3.071119</td>\n",
       "      <td>2.648114</td>\n",
       "    </tr>\n",
       "    <tr>\n",
       "      <th>std</th>\n",
       "      <td>2.452168e+08</td>\n",
       "      <td>11.462367</td>\n",
       "      <td>2.066173</td>\n",
       "      <td>1.792237</td>\n",
       "    </tr>\n",
       "    <tr>\n",
       "      <th>min</th>\n",
       "      <td>1.300000e+05</td>\n",
       "      <td>3.000000</td>\n",
       "      <td>1.000000</td>\n",
       "      <td>1.000000</td>\n",
       "    </tr>\n",
       "    <tr>\n",
       "      <th>25%</th>\n",
       "      <td>1.300000e+07</td>\n",
       "      <td>8.000000</td>\n",
       "      <td>2.000000</td>\n",
       "      <td>2.000000</td>\n",
       "    </tr>\n",
       "    <tr>\n",
       "      <th>50%</th>\n",
       "      <td>1.900000e+07</td>\n",
       "      <td>10.000000</td>\n",
       "      <td>3.000000</td>\n",
       "      <td>2.000000</td>\n",
       "    </tr>\n",
       "    <tr>\n",
       "      <th>75%</th>\n",
       "      <td>3.100000e+07</td>\n",
       "      <td>19.000000</td>\n",
       "      <td>4.000000</td>\n",
       "      <td>3.000000</td>\n",
       "    </tr>\n",
       "    <tr>\n",
       "      <th>max</th>\n",
       "      <td>6.509159e+09</td>\n",
       "      <td>103.000000</td>\n",
       "      <td>31.000000</td>\n",
       "      <td>36.000000</td>\n",
       "    </tr>\n",
       "  </tbody>\n",
       "</table>\n",
       "</div>"
      ],
      "text/plain": [
       "              price       Region           BR          BTH\n",
       "count  1.617000e+03  1617.000000  1617.000000  1617.000000\n",
       "mean   4.436338e+07    14.080396     3.071119     2.648114\n",
       "std    2.452168e+08    11.462367     2.066173     1.792237\n",
       "min    1.300000e+05     3.000000     1.000000     1.000000\n",
       "25%    1.300000e+07     8.000000     2.000000     2.000000\n",
       "50%    1.900000e+07    10.000000     3.000000     2.000000\n",
       "75%    3.100000e+07    19.000000     4.000000     3.000000\n",
       "max    6.509159e+09   103.000000    31.000000    36.000000"
      ]
     },
     "execution_count": 75,
     "metadata": {},
     "output_type": "execute_result"
    }
   ],
   "source": [
    "df.describe()"
   ]
  },
  {
   "cell_type": "code",
   "execution_count": 57,
   "id": "0bdf3378",
   "metadata": {},
   "outputs": [
    {
     "data": {
      "text/html": [
       "<table class=\"simpletable\">\n",
       "<caption>OLS Regression Results</caption>\n",
       "<tr>\n",
       "  <th>Dep. Variable:</th>          <td>price</td>      <th>  R-squared:         </th> <td>   0.102</td> \n",
       "</tr>\n",
       "<tr>\n",
       "  <th>Model:</th>                   <td>OLS</td>       <th>  Adj. R-squared:    </th> <td>   0.099</td> \n",
       "</tr>\n",
       "<tr>\n",
       "  <th>Method:</th>             <td>Least Squares</td>  <th>  F-statistic:       </th> <td>   40.73</td> \n",
       "</tr>\n",
       "<tr>\n",
       "  <th>Date:</th>             <td>Tue, 06 Jul 2021</td> <th>  Prob (F-statistic):</th> <td>6.13e-25</td> \n",
       "</tr>\n",
       "<tr>\n",
       "  <th>Time:</th>                 <td>22:14:01</td>     <th>  Log-Likelihood:    </th> <td> -21347.</td> \n",
       "</tr>\n",
       "<tr>\n",
       "  <th>No. Observations:</th>      <td>  1085</td>      <th>  AIC:               </th> <td>4.270e+04</td>\n",
       "</tr>\n",
       "<tr>\n",
       "  <th>Df Residuals:</th>          <td>  1081</td>      <th>  BIC:               </th> <td>4.272e+04</td>\n",
       "</tr>\n",
       "<tr>\n",
       "  <th>Df Model:</th>              <td>     3</td>      <th>                     </th>     <td> </td>    \n",
       "</tr>\n",
       "<tr>\n",
       "  <th>Covariance Type:</th>      <td>nonrobust</td>    <th>                     </th>     <td> </td>    \n",
       "</tr>\n",
       "</table>\n",
       "<table class=\"simpletable\">\n",
       "<tr>\n",
       "      <td></td>         <th>coef</th>     <th>std err</th>      <th>t</th>      <th>P>|t|</th>  <th>[0.025</th>    <th>0.975]</th>  \n",
       "</tr>\n",
       "<tr>\n",
       "  <th>intercept</th> <td>  1.06e+07</td> <td> 5.32e+06</td> <td>    1.993</td> <td> 0.047</td> <td> 1.63e+05</td> <td>  2.1e+07</td>\n",
       "</tr>\n",
       "<tr>\n",
       "  <th>Region</th>    <td>-2.583e+05</td> <td> 1.93e+05</td> <td>   -1.335</td> <td> 0.182</td> <td>-6.38e+05</td> <td> 1.21e+05</td>\n",
       "</tr>\n",
       "<tr>\n",
       "  <th>BR</th>        <td> -1.27e+07</td> <td>  2.1e+06</td> <td>   -6.045</td> <td> 0.000</td> <td>-1.68e+07</td> <td>-8.58e+06</td>\n",
       "</tr>\n",
       "<tr>\n",
       "  <th>BTH</th>       <td> 2.659e+07</td> <td> 2.56e+06</td> <td>   10.379</td> <td> 0.000</td> <td> 2.16e+07</td> <td> 3.16e+07</td>\n",
       "</tr>\n",
       "</table>\n",
       "<table class=\"simpletable\">\n",
       "<tr>\n",
       "  <th>Omnibus:</th>       <td>2164.740</td> <th>  Durbin-Watson:     </th>  <td>   1.774</td>  \n",
       "</tr>\n",
       "<tr>\n",
       "  <th>Prob(Omnibus):</th>  <td> 0.000</td>  <th>  Jarque-Bera (JB):  </th> <td>3683117.833</td>\n",
       "</tr>\n",
       "<tr>\n",
       "  <th>Skew:</th>           <td>15.256</td>  <th>  Prob(JB):          </th>  <td>    0.00</td>  \n",
       "</tr>\n",
       "<tr>\n",
       "  <th>Kurtosis:</th>       <td>286.794</td> <th>  Cond. No.          </th>  <td>    41.5</td>  \n",
       "</tr>\n",
       "</table><br/><br/>Notes:<br/>[1] Standard Errors assume that the covariance matrix of the errors is correctly specified."
      ],
      "text/plain": [
       "<class 'statsmodels.iolib.summary.Summary'>\n",
       "\"\"\"\n",
       "                            OLS Regression Results                            \n",
       "==============================================================================\n",
       "Dep. Variable:                  price   R-squared:                       0.102\n",
       "Model:                            OLS   Adj. R-squared:                  0.099\n",
       "Method:                 Least Squares   F-statistic:                     40.73\n",
       "Date:                Tue, 06 Jul 2021   Prob (F-statistic):           6.13e-25\n",
       "Time:                        22:14:01   Log-Likelihood:                -21347.\n",
       "No. Observations:                1085   AIC:                         4.270e+04\n",
       "Df Residuals:                    1081   BIC:                         4.272e+04\n",
       "Df Model:                           3                                         \n",
       "Covariance Type:            nonrobust                                         \n",
       "==============================================================================\n",
       "                 coef    std err          t      P>|t|      [0.025      0.975]\n",
       "------------------------------------------------------------------------------\n",
       "intercept    1.06e+07   5.32e+06      1.993      0.047    1.63e+05     2.1e+07\n",
       "Region     -2.583e+05   1.93e+05     -1.335      0.182   -6.38e+05    1.21e+05\n",
       "BR          -1.27e+07    2.1e+06     -6.045      0.000   -1.68e+07   -8.58e+06\n",
       "BTH         2.659e+07   2.56e+06     10.379      0.000    2.16e+07    3.16e+07\n",
       "==============================================================================\n",
       "Omnibus:                     2164.740   Durbin-Watson:                   1.774\n",
       "Prob(Omnibus):                  0.000   Jarque-Bera (JB):          3683117.833\n",
       "Skew:                          15.256   Prob(JB):                         0.00\n",
       "Kurtosis:                     286.794   Cond. No.                         41.5\n",
       "==============================================================================\n",
       "\n",
       "Notes:\n",
       "[1] Standard Errors assume that the covariance matrix of the errors is correctly specified.\n",
       "\"\"\""
      ]
     },
     "execution_count": 57,
     "metadata": {},
     "output_type": "execute_result"
    }
   ],
   "source": [
    "#create model\n",
    "df['intercept'] = 1\n",
    "\n",
    "lm = sm.OLS(df['price'], df[['intercept', 'Region', 'BR', 'BTH']])\n",
    "results = lm.fit()\n",
    "results.summary()"
   ]
  },
  {
   "cell_type": "code",
   "execution_count": 76,
   "id": "803f48d3",
   "metadata": {},
   "outputs": [
    {
     "data": {
      "text/plain": [
       "<seaborn.axisgrid.PairGrid at 0x2a718bb6430>"
      ]
     },
     "execution_count": 76,
     "metadata": {},
     "output_type": "execute_result"
    },
    {
     "data": {
      "image/png": "[encoded data removed]",
      "text/plain": [
       "<Figure size 720x720 with 20 Axes>"
      ]
     },
     "metadata": {
      "needs_background": "light"
     },
     "output_type": "display_data"
    }
   ],
   "source": [
    "#plot graph to loo for multicollinearity\n",
    "sb.pairplot(df[['Region', 'BR', 'BTH', 'price']])"
   ]
  },
  {
   "cell_type": "markdown",
   "id": "3984cf90",
   "metadata": {},
   "source": [
    "I can see slight correlations between some of the variables which need to be further investigated."
   ]
  },
  {
   "cell_type": "markdown",
   "id": "a75b0633",
   "metadata": {},
   "source": [
    "### Checking VIF:"
   ]
  },
  {
   "cell_type": "code",
   "execution_count": 11,
   "id": "1f843aaa",
   "metadata": {},
   "outputs": [],
   "source": [
    "#y, x = dmatrices('price_JMD ~  size_sqft + beds + baths', df, return_type = 'dataframe')"
   ]
  },
  {
   "cell_type": "code",
   "execution_count": 12,
   "id": "12e1238f",
   "metadata": {},
   "outputs": [
    {
     "ename": "NameError",
     "evalue": "name 'x' is not defined",
     "output_type": "error",
     "traceback": [
      "\u001b[1;31m---------------------------------------------------------------------------\u001b[0m",
      "\u001b[1;31mNameError\u001b[0m                                 Traceback (most recent call last)",
      "\u001b[1;32m<ipython-input-12-d6d6021da4a0>\u001b[0m in \u001b[0;36m<module>\u001b[1;34m\u001b[0m\n\u001b[0;32m      1\u001b[0m \u001b[0mvif\u001b[0m \u001b[1;33m=\u001b[0m \u001b[0mpd\u001b[0m\u001b[1;33m.\u001b[0m\u001b[0mDataFrame\u001b[0m\u001b[1;33m(\u001b[0m\u001b[1;33m)\u001b[0m\u001b[1;33m\u001b[0m\u001b[1;33m\u001b[0m\u001b[0m\n\u001b[1;32m----> 2\u001b[1;33m \u001b[0mvif\u001b[0m\u001b[1;33m[\u001b[0m\u001b[1;34m'VIF Factor'\u001b[0m\u001b[1;33m]\u001b[0m \u001b[1;33m=\u001b[0m \u001b[1;33m[\u001b[0m\u001b[0mvariance_inflation_factor\u001b[0m\u001b[1;33m(\u001b[0m\u001b[0mx\u001b[0m\u001b[1;33m.\u001b[0m\u001b[0mvalues\u001b[0m\u001b[1;33m,\u001b[0m \u001b[0mi\u001b[0m\u001b[1;33m)\u001b[0m \u001b[1;32mfor\u001b[0m \u001b[0mi\u001b[0m \u001b[1;32min\u001b[0m \u001b[0mrange\u001b[0m\u001b[1;33m(\u001b[0m\u001b[0mx\u001b[0m\u001b[1;33m.\u001b[0m\u001b[0mshape\u001b[0m\u001b[1;33m[\u001b[0m\u001b[1;36m1\u001b[0m\u001b[1;33m]\u001b[0m\u001b[1;33m)\u001b[0m\u001b[1;33m]\u001b[0m\u001b[1;33m\u001b[0m\u001b[1;33m\u001b[0m\u001b[0m\n\u001b[0m",
      "\u001b[1;31mNameError\u001b[0m: name 'x' is not defined"
     ]
    }
   ],
   "source": [
    "'''vif = pd.DataFrame()\n",
    "vif['VIF Factor'] = [variance_inflation_factor(x.values, i) for i in range(x.shape[1])]'''"
   ]
  },
  {
   "cell_type": "code",
   "execution_count": null,
   "id": "40a52dfc",
   "metadata": {},
   "outputs": [],
   "source": [
    "'''vif['features'] = x.columns\n",
    "vif'''"
   ]
  },
  {
   "cell_type": "markdown",
   "id": "0d167c6f",
   "metadata": {},
   "source": [
    "Given that the variable of interest have VIFs < 10, I will be ignoring their collinearity."
   ]
  },
  {
   "cell_type": "code",
   "execution_count": null,
   "id": "49e436dd",
   "metadata": {},
   "outputs": [],
   "source": [
    "#fig = px.scatter(x=df['price'], y=df['Region'], title='House price predictions', labels={'x':'Price in JMD', 'y':'Number of beds'})\n",
    "#fig.show()"
   ]
  },
  {
   "cell_type": "code",
   "execution_count": null,
   "id": "009f3134",
   "metadata": {},
   "outputs": [],
   "source": [
    "#beds_np = df['beds'].to_numpy()\n",
    "#price_np = df['price_JMD'].to_numpy()"
   ]
  },
  {
   "cell_type": "code",
   "execution_count": null,
   "id": "3620f6e2",
   "metadata": {},
   "outputs": [],
   "source": [
    "#price_reshaped = price_np.reshape(len(df['price_JMD']), 1)\n",
    "#price_reshaped"
   ]
  },
  {
   "cell_type": "code",
   "execution_count": null,
   "id": "77f16a8c",
   "metadata": {},
   "outputs": [],
   "source": [
    "#model = LinearRegression().fit(price_reshaped, beds_np)\n",
    "#model.coef_"
   ]
  },
  {
   "cell_type": "markdown",
   "id": "6e5afdb2",
   "metadata": {},
   "source": [
    "## Define x and y:"
   ]
  },
  {
   "cell_type": "code",
   "execution_count": 77,
   "id": "20aefb9e",
   "metadata": {},
   "outputs": [],
   "source": [
    "factors = ['Region', 'BR', 'BTH']\n",
    "x=df[factors].values\n",
    "y=df['price'].values"
   ]
  },
  {
   "cell_type": "code",
   "execution_count": 14,
   "id": "f4321e77",
   "metadata": {},
   "outputs": [
    {
     "name": "stdout",
     "output_type": "stream",
     "text": [
      "[[ 6.  3.  2.]\n",
      " [13.  1.  2.]\n",
      " [ 9.  5.  2.]\n",
      " ...\n",
      " [ 6.  4.  5.]\n",
      " [ 6.  6.  7.]\n",
      " [ 6.  5.  5.]]\n",
      "[   527587   8500000   9000000  10500000  10800000  12000000  14000000\n",
      "  14500000  15000000  15000000  15000000  15000000  15000000  15000000\n",
      "  16000000  16500000  16800000  16950000  17000000  17000000  17500000\n",
      "  17500000  18000000  18000000  18000000  18500000  19000000  19250000\n",
      "  19500000  20000000  20000000  20000000  20000000  20000000  20097400\n",
      "  20300000  20300000  20500000  20500000  21000000  21000000  21000000\n",
      "  21500000  21500000  22000000  22000000  22000000  23000000  23000000\n",
      "  23500000  24000000  24000000  24157000  24551400  24551400  24600000\n",
      "  24950000  25000000  25000000  25000000  25000000  25500000  25500000\n",
      "  26000000  26000000  26000000  26000000  26000000  26000000  26000000\n",
      "  26500000  26800000  26900000  27469000  27469000  27469000  27469000\n",
      "  27469000  27469000  27469000  27469000  27469000  27469000  27469000\n",
      "  27469000  27469000  27469000  27469000  27469000  27469000  27500000\n",
      "  27500000  27881000  28000000  28000000  28000000  28100000  28188213\n",
      "  28500000  29000000  29000000  29400000  29500000  30000000  30000000\n",
      "  30000000  30000000  30500000  31000000  31000000  31000000  31000000\n",
      "  31278365  31500000  31655212  31971463  32000000  32000000  32000000\n",
      "  32000000  32000000  32000000  32000000  32500000  32500000  32500000\n",
      "  32500000  32500000  32504326  32900000  33000000  33000000  33000000\n",
      "  33000000  33150000  33162603  33500000  33500000  33500000  33500000\n",
      "  33900000  34500000  34800000  35000000  35000000  35000000  35000000\n",
      "  35000000  35000000  35000000  35000000  35500000  36000000  36000000\n",
      "  36000000  36000000  36250000  36500000  36500000  36500000  36500000\n",
      "  36500000  36500000  36500000  36500000  36500000  36500000  36500000\n",
      "  36500000  36500000  36500000  36899000  36899000  36899000  36899000\n",
      "  36899000  36899000  37000000  37000000  37000000  38000000  38000000\n",
      "  38000000  38805000  39729000  39729000  39729000  39729000  40000000\n",
      "  40000000  40000000  40000000  40500000  40500000  40500000  42000000\n",
      "  42000000  42000000  43000000  43000000  43500000  44000000  44000000\n",
      "  44000000  44000000  44500000  44500000  44500000  45000000  45000000\n",
      "  45000000  45000000  45000000  45000000  45000000  45000000  45538284\n",
      "  46246758  46500000  46729123  48000000  48000000  48000000  48000000\n",
      "  48236514  48236514  49500000  49743905  49950000  50000000  50000000\n",
      "  51000000  51251296  52000000  52000000  52500000  52758687  54000000\n",
      "  54266078  54266078  54266078  55000000  55000000  55000000  55000000\n",
      "  55019774  55500000  56000000  59000000  59000000  60000000  60295643\n",
      "  60687564  60687564  61803034  63551607  63551607  63551607  65000000\n",
      "  65000000  65000000  65000000  65000000  65000000  67000000  67832598\n",
      "  68000000  68000000  68000000  68000000  68000000  68000000  68000000\n",
      "  68000000  69000000  69000000  69201309  70000000  70000000  70000000\n",
      "  70000000  70000000  70847380  72354771  75000000  75000000  75335939\n",
      "  75369553  76000000  76876944  77000000  79138031  80000000  80000000\n",
      "  82000000  82906509  82906509  82906509  82906509  82906509  82906509\n",
      "  82906509  82906509  82906509  82906509  85000000  85000000  85122374\n",
      "  85770552  89000000  89000000  89132034  89132034  89689768  89689768\n",
      "  89689768  89689768  90000000  90443464  90443464  91317751  91317751\n",
      "  93000000  94211942  95719333  95719333  95719333  97980419  97980419\n",
      "  98000000 100000000 102216188 102321706 102321706 102502593 105517375\n",
      " 106090183 106090183 106135405 110000000 112500000 113808026 117576503\n",
      " 120000000 128128241 128128241 131896718 132650414 132650414 135665196\n",
      " 135990792 135990792 140000000 143202151 145000000 148000000 165813017\n",
      " 173349973 180886928 186514320 195960839 195960839 195960839 203497794\n",
      " 207266272 211034749 211034749 218571705 226108660 230000000 233645615\n",
      " 237414093 244305885 256256481 257837584 271330392 271330392 271330392\n",
      " 271330392 301478213 301478213 301478213 301478213 301478213 301478213\n",
      " 331626035 406995588 444680365]\n"
     ]
    }
   ],
   "source": [
    "print(x)\n",
    "print(y)"
   ]
  },
  {
   "cell_type": "markdown",
   "id": "b8d1a2fc",
   "metadata": {},
   "source": [
    "## Split data into train and test models "
   ]
  },
  {
   "cell_type": "code",
   "execution_count": 78,
   "id": "28e7031a",
   "metadata": {},
   "outputs": [],
   "source": [
    "from sklearn.model_selection import train_test_split\n",
    "from sklearn.metrics import mean_absolute_error\n",
    "x_train, x_test, y_train, y_test = train_test_split(x,y, random_state=0)"
   ]
  },
  {
   "cell_type": "markdown",
   "id": "2496f8fc",
   "metadata": {},
   "source": [
    "## Train model"
   ]
  },
  {
   "cell_type": "code",
   "execution_count": 79,
   "id": "d394d100",
   "metadata": {},
   "outputs": [
    {
     "data": {
      "text/plain": [
       "DecisionTreeRegressor()"
      ]
     },
     "execution_count": 79,
     "metadata": {},
     "output_type": "execute_result"
    }
   ],
   "source": [
    "from sklearn.tree import DecisionTreeRegressor\n",
    "model=DecisionTreeRegressor()\n",
    "model.fit(x_train, y_train)"
   ]
  },
  {
   "cell_type": "markdown",
   "id": "12d1bfec",
   "metadata": {},
   "source": [
    "## Predict test results"
   ]
  },
  {
   "cell_type": "code",
   "execution_count": 80,
   "id": "2ca5c102",
   "metadata": {},
   "outputs": [
    {
     "name": "stdout",
     "output_type": "stream",
     "text": [
      "[1.37107143e+07 8.17941176e+06 1.16642857e+07 2.60085333e+07\n",
      " 3.13609255e+07 1.80794118e+07 9.00000000e+07 1.43750000e+07\n",
      " 1.09820095e+08 3.48523984e+07 2.08241903e+07 8.17941176e+06\n",
      " 1.95414286e+07 2.68475606e+07 1.16642857e+07 1.28128241e+08\n",
      " 3.69258622e+08 1.09820095e+08 7.30000000e+07 1.31828694e+08\n",
      " 1.04754167e+07 1.79681986e+07 3.69258622e+08 2.68475606e+07\n",
      " 4.05212882e+07 1.04754167e+07 8.17941176e+06 9.22857143e+06\n",
      " 1.95414286e+07 2.43431170e+07 2.68475606e+07 3.13609255e+07\n",
      " 3.13000000e+07 3.55671546e+07 2.70285714e+07 1.19250000e+07\n",
      " 1.32600000e+07 1.31828694e+08 1.09820095e+08 1.09820095e+08\n",
      " 2.55814264e+07 8.50000000e+07 1.46000000e+07 1.95414286e+07\n",
      " 1.09820095e+08 3.13609255e+07 1.76000000e+07 7.44354246e+07\n",
      " 2.55814264e+07 2.68475606e+07 1.50000000e+07 4.47272510e+07\n",
      " 3.01478213e+08 5.73333333e+07 1.95414286e+07 8.17941176e+06\n",
      " 3.48523984e+07 1.87333333e+07 4.05212882e+07 8.17941176e+06\n",
      " 1.27500000e+07 1.60083333e+07 3.80000000e+07 2.26299075e+08\n",
      " 1.41453333e+07 3.58600000e+07 1.87333333e+07 1.80794118e+07\n",
      " 2.55814264e+07 1.26600000e+07 1.20000000e+07 1.46000000e+07\n",
      " 1.27500000e+07 2.43431170e+07 3.50000000e+07 1.41453333e+07\n",
      " 1.41453333e+07 4.05212882e+07 2.67533596e+07 1.87333333e+07\n",
      " 3.31625000e+07 1.16642857e+07 2.08241903e+07 2.43431170e+07\n",
      " 1.60083333e+07 9.30000000e+07 1.41453333e+07 3.13609255e+07\n",
      " 8.17941176e+06 1.87333333e+07 3.69258622e+08 1.09820095e+08\n",
      " 1.20000000e+07 3.13609255e+07 1.87333333e+07 2.68475606e+07\n",
      " 2.24450000e+07 4.06995588e+08 1.43750000e+07 2.19285714e+07\n",
      " 1.05986377e+08 8.17941176e+06 4.05212882e+07 3.69258622e+08\n",
      " 2.60085333e+07 3.13609255e+07 1.40687500e+07 2.68475606e+07\n",
      " 1.77666667e+07 1.46000000e+07 1.37107143e+07 1.77666667e+07\n",
      " 1.95414286e+07 3.69258622e+08 7.30000000e+07 3.35739108e+07\n",
      " 5.50000000e+06 1.73222222e+07 5.00000000e+06 1.46000000e+07\n",
      " 2.00000000e+07 3.35739108e+07 1.79681986e+07 7.44354246e+07\n",
      " 1.11366283e+08 1.24461538e+07 2.43431170e+07 2.07266272e+08\n",
      " 2.08241903e+07 2.60085333e+07 2.08241903e+07 1.87333333e+07\n",
      " 1.75000000e+07 1.73222222e+07 1.95414286e+07 2.70285714e+07\n",
      " 1.73222222e+07 3.69258622e+08 3.01478213e+08 2.40941065e+07\n",
      " 9.00000000e+07 1.73222222e+07 4.75000000e+06 5.27587000e+05\n",
      " 1.26600000e+07 4.47272510e+07 3.31625000e+07 3.69258622e+08\n",
      " 1.24461538e+07 3.45596000e+07 1.19250000e+07 1.79681986e+07\n",
      " 3.13609255e+07 7.44354246e+07 2.57500000e+07 2.67533596e+07\n",
      " 6.90000000e+07 2.26299075e+08 2.08241903e+07 2.43431170e+07\n",
      " 4.95000000e+07 1.73222222e+07 9.22857143e+06 1.46000000e+07\n",
      " 1.76000000e+07 8.00000000e+06 2.68475606e+07 2.68475606e+07\n",
      " 1.20000000e+07 2.43431170e+07 2.43431170e+07 1.20000000e+07\n",
      " 1.06714286e+07 1.24461538e+07 2.70285714e+07 3.13609255e+07\n",
      " 3.13609255e+07 3.26716000e+07 4.47272510e+07 3.13609255e+07\n",
      " 3.13609255e+07 1.74400000e+07 1.41453333e+07 1.24461538e+07\n",
      " 1.46571434e+07 2.68475606e+07 2.24450000e+07 1.11366283e+08\n",
      " 2.43431170e+07 3.65000000e+07 2.19285714e+07 1.04754167e+07\n",
      " 1.95414286e+07 1.43750000e+07 1.24461538e+07 3.31625000e+07\n",
      " 8.17941176e+06 7.44354246e+07 8.00000000e+06 5.77000000e+07\n",
      " 2.43431170e+07 2.41706250e+07 2.08241903e+07 1.41453333e+07\n",
      " 1.46000000e+07 3.13609255e+07 3.31625000e+07 1.87333333e+07\n",
      " 2.08241903e+07 2.67533596e+07 1.80794118e+07 1.87333333e+07\n",
      " 1.79681986e+07 3.58600000e+07 1.80794118e+07 1.73222222e+07\n",
      " 2.68475606e+07 4.05212882e+07 1.46000000e+07 3.13609255e+07\n",
      " 1.11366283e+08 1.40687500e+07 1.73222222e+07 2.60085333e+07\n",
      " 2.67533596e+07 1.50000000e+07 1.90666667e+07 3.26716000e+07\n",
      " 7.44354246e+07 2.70285714e+07 7.44354246e+07 1.40500000e+07\n",
      " 1.87333333e+07 1.11366283e+08 1.46000000e+07 2.60085333e+07\n",
      " 6.50000000e+07 1.87333333e+07 3.13609255e+07 1.85000000e+07\n",
      " 6.90000000e+07 5.77000000e+07 1.28128241e+08 4.05212882e+07\n",
      " 3.31625000e+07 2.08241903e+07 1.30666667e+07 3.45596000e+07\n",
      " 4.66675742e+07 1.87333333e+07 3.13609255e+07 1.41687500e+07\n",
      " 4.75000000e+06 2.60085333e+07 3.13609255e+07 7.26201048e+07\n",
      " 1.09820095e+08 2.68475606e+07 3.09500000e+07 1.73222222e+07\n",
      " 1.41453333e+07 1.32173172e+09 3.13000000e+07 3.69258622e+08\n",
      " 3.90857143e+07 8.17941176e+06 1.20000000e+07 1.09820095e+08\n",
      " 1.09820095e+08 1.09820095e+08 1.41687500e+07 1.24461538e+07\n",
      " 1.72500000e+07 1.50000000e+07 1.32600000e+07 9.45850458e+07\n",
      " 1.77666667e+07 2.08241903e+07 1.20757160e+08 4.47272510e+07\n",
      " 3.55671546e+07 1.77666667e+07 1.33333333e+07 3.31625000e+07\n",
      " 1.77666667e+07 2.67533596e+07 1.41687500e+07 1.16642857e+07\n",
      " 7.44354246e+07 3.13609255e+07 3.48523984e+07 1.09820095e+08\n",
      " 1.60000000e+07 3.13609255e+07 3.02500000e+07 1.37107143e+07\n",
      " 2.00000000e+07 1.33333333e+07 3.13000000e+07 1.46000000e+07\n",
      " 1.79681986e+07 2.47488402e+07 2.43431170e+07 2.55814264e+07\n",
      " 9.45850458e+07 1.41453333e+07 1.24461538e+07 3.05000000e+07\n",
      " 1.90000000e+07 3.13609255e+07 3.90857143e+07 1.87333333e+07\n",
      " 1.30666667e+07 8.76363636e+06 1.19250000e+07 1.79681986e+07\n",
      " 1.24461538e+07 1.79681986e+07 8.76363636e+06 1.79681986e+07\n",
      " 3.90857143e+07 1.20757160e+08 1.95414286e+07 1.95414286e+07\n",
      " 1.20000000e+07 4.66675742e+07 1.37107143e+07 5.00000000e+06\n",
      " 2.19285714e+07 1.87333333e+07 3.13609255e+07 3.13609255e+07\n",
      " 1.79681986e+07 1.95414286e+07 4.47272510e+07 3.26716000e+07\n",
      " 1.33333333e+07 3.50000000e+07 1.60083333e+07 3.31625000e+07\n",
      " 1.37107143e+07 2.24450000e+07 1.87333333e+07 1.40687500e+07\n",
      " 3.31625000e+07 1.87333333e+07 2.60085333e+07 1.46000000e+07\n",
      " 1.16642857e+07 3.05000000e+07 3.90857143e+07 2.43431170e+07\n",
      " 1.24461538e+07 3.13609255e+07 3.26716000e+07 1.27500000e+07\n",
      " 3.13609255e+07 3.30000000e+07 1.74400000e+07 1.30666667e+07\n",
      " 3.80000000e+07 2.60085333e+07 1.95414286e+07 8.17941176e+06\n",
      " 1.95414286e+07 1.32173172e+09 1.76000000e+07 1.43750000e+07\n",
      " 1.87333333e+07 4.66675742e+07 7.44354246e+07 1.95414286e+07\n",
      " 3.45596000e+07 1.24461538e+07 1.37625000e+07 8.00000000e+07\n",
      " 1.79681986e+07 1.40000000e+08 3.00000000e+07 2.86404302e+08\n",
      " 1.74400000e+07 3.13609255e+07 5.00000000e+06 1.73222222e+07\n",
      " 6.78144880e+07 7.30000000e+07 3.13609255e+07 3.90857143e+07\n",
      " 1.20000000e+07 1.09820095e+08 1.73222222e+07 1.16642857e+07\n",
      " 1.26600000e+07 2.68475606e+07 2.30000000e+06 3.13609255e+07\n",
      " 1.06714286e+07 1.09820095e+08 1.41453333e+07 3.13609255e+07\n",
      " 1.41453333e+07 1.09820095e+08 2.57500000e+07 1.04754167e+07\n",
      " 3.26716000e+07]\n"
     ]
    }
   ],
   "source": [
    "y_pred = model.predict(x_test)\n",
    "print(y_pred)"
   ]
  },
  {
   "cell_type": "code",
   "execution_count": 81,
   "id": "580c4483",
   "metadata": {},
   "outputs": [
    {
     "data": {
      "text/plain": [
       "array([527587.])"
      ]
     },
     "execution_count": 81,
     "metadata": {},
     "output_type": "execute_result"
    }
   ],
   "source": [
    "model.predict([[6,3.0,2.0]])"
   ]
  },
  {
   "cell_type": "code",
   "execution_count": 82,
   "id": "f0f97b6e",
   "metadata": {},
   "outputs": [
    {
     "data": {
      "text/plain": [
       "30010553.54209559"
      ]
     },
     "execution_count": 82,
     "metadata": {},
     "output_type": "execute_result"
    }
   ],
   "source": [
    "mean_absolute_error(y_test, y_pred)"
   ]
  },
  {
   "cell_type": "code",
   "execution_count": 83,
   "id": "688157d3",
   "metadata": {},
   "outputs": [],
   "source": [
    "def get_mae(max_leaf_nodes, train_X, val_X, train_y, val_y):\n",
    "    model = DecisionTreeRegressor(max_leaf_nodes=max_leaf_nodes, random_state=0)\n",
    "    model.fit(train_X, train_y)\n",
    "    preds_val = model.predict(val_X)\n",
    "    mae = mean_absolute_error(val_y, preds_val)\n",
    "    return(mae)"
   ]
  },
  {
   "cell_type": "code",
   "execution_count": 84,
   "id": "bea7cdbc",
   "metadata": {},
   "outputs": [
    {
     "name": "stdout",
     "output_type": "stream",
     "text": [
      "Max leaf nodes: 5  \t\t Mean Absolute Error:  32499649\n",
      "Max leaf nodes: 50  \t\t Mean Absolute Error:  30635022\n",
      "Max leaf nodes: 500  \t\t Mean Absolute Error:  31120841\n",
      "Max leaf nodes: 5000  \t\t Mean Absolute Error:  31120841\n"
     ]
    }
   ],
   "source": [
    "for max_leaf_nodes in [5, 50, 500, 5000]:\n",
    "    my_mae = get_mae(max_leaf_nodes, x_train, x_test, y_train, y_test)\n",
    "    print(\"Max leaf nodes: %d  \\t\\t Mean Absolute Error:  %d\" %(max_leaf_nodes, my_mae))"
   ]
  },
  {
   "cell_type": "markdown",
   "id": "485d9160",
   "metadata": {},
   "source": [
    "### Random Forest:"
   ]
  },
  {
   "cell_type": "code",
   "execution_count": 85,
   "id": "363dd1a9",
   "metadata": {},
   "outputs": [],
   "source": [
    "from sklearn.ensemble import RandomForestRegressor"
   ]
  },
  {
   "cell_type": "code",
   "execution_count": 86,
   "id": "71f6448a",
   "metadata": {},
   "outputs": [
    {
     "name": "stdout",
     "output_type": "stream",
     "text": [
      "32950546.295561552\n"
     ]
    }
   ],
   "source": [
    "forest_model = RandomForestRegressor(random_state=1)\n",
    "forest_model.fit(x_train, y_train)\n",
    "preds = forest_model.predict(x_test)\n",
    "mae = mean_absolute_error(y_test, preds)\n",
    "print(mae)"
   ]
  },
  {
   "cell_type": "code",
   "execution_count": 87,
   "id": "7bca0341",
   "metadata": {},
   "outputs": [],
   "source": [
    "import threading, time"
   ]
  },
  {
   "cell_type": "code",
   "execution_count": 92,
   "id": "491e3b88",
   "metadata": {},
   "outputs": [
    {
     "name": "stdout",
     "output_type": "stream",
     "text": [
      "Start Program:\n",
      "End program\n",
      "Boom!\n"
     ]
    }
   ],
   "source": [
    "print('Start Program:')\n",
    "def takenap():\n",
    "    time.sleep(5)\n",
    "    for i in range(5,1):\n",
    "        print(i)\n",
    "    print('Boom!')\n",
    "    \n",
    "threadObj = threading.Thread(target=takenap)\n",
    "threadObj.start()\n",
    "print('End program')"
   ]
  },
  {
   "cell_type": "code",
   "execution_count": 89,
   "id": "3468157a",
   "metadata": {},
   "outputs": [
    {
     "name": "stdout",
     "output_type": "stream",
     "text": [
      "range(5, 1)\n",
      "Boom!\n"
     ]
    }
   ],
   "source": []
  }
 ],
 "metadata": {
  "kernelspec": {
   "display_name": "Python 3",
   "language": "python",
   "name": "python3"
  },
  "language_info": {
   "codemirror_mode": {
    "name": "ipython",
    "version": 3
   },
   "file_extension": ".py",
   "mimetype": "text/x-python",
   "name": "python",
   "nbconvert_exporter": "python",
   "pygments_lexer": "ipython3",
   "version": "3.8.8"
  }
 },
 "nbformat": 4,
 "nbformat_minor": 5
}
